{
 "cells": [
  {
   "cell_type": "code",
   "execution_count": 2,
   "metadata": {},
   "outputs": [],
   "source": [
    "import numpy as np\n",
    "import pandas as pd\n",
    "import os\n",
    "os.chdir('../Data')"
   ]
  },
  {
   "cell_type": "code",
   "execution_count": 4,
   "metadata": {},
   "outputs": [],
   "source": [
    "ann = pd.read_csv(os.path.join(os.getcwd(), 'MTAT', 'annotations_final.csv'), delimiter='\\t')"
   ]
  },
  {
   "cell_type": "code",
   "execution_count": 5,
   "metadata": {},
   "outputs": [],
   "source": [
    "hiphop = ann[['clip_id', 'mp3_path']][(ann['hip hop'] == 1) | (ann['rap'] == 1)]"
   ]
  },
  {
   "cell_type": "code",
   "execution_count": 6,
   "metadata": {},
   "outputs": [
    {
     "data": {
      "text/html": [
       "<div>\n",
       "<style scoped>\n",
       "    .dataframe tbody tr th:only-of-type {\n",
       "        vertical-align: middle;\n",
       "    }\n",
       "\n",
       "    .dataframe tbody tr th {\n",
       "        vertical-align: top;\n",
       "    }\n",
       "\n",
       "    .dataframe thead th {\n",
       "        text-align: right;\n",
       "    }\n",
       "</style>\n",
       "<table border=\"1\" class=\"dataframe\">\n",
       "  <thead>\n",
       "    <tr style=\"text-align: right;\">\n",
       "      <th></th>\n",
       "      <th>clip_id</th>\n",
       "      <th>mp3_path</th>\n",
       "    </tr>\n",
       "  </thead>\n",
       "  <tbody>\n",
       "    <tr>\n",
       "      <th>161</th>\n",
       "      <td>349</td>\n",
       "      <td>4/justin_bianco-siren-01-another_century-30-59...</td>\n",
       "    </tr>\n",
       "    <tr>\n",
       "      <th>251</th>\n",
       "      <td>540</td>\n",
       "      <td>4/the_marginal_prophets-bohemian_rap_cd-01-bea...</td>\n",
       "    </tr>\n",
       "    <tr>\n",
       "      <th>252</th>\n",
       "      <td>541</td>\n",
       "      <td>4/the_marginal_prophets-bohemian_rap_cd-01-bea...</td>\n",
       "    </tr>\n",
       "    <tr>\n",
       "      <th>253</th>\n",
       "      <td>542</td>\n",
       "      <td>4/the_marginal_prophets-bohemian_rap_cd-01-bea...</td>\n",
       "    </tr>\n",
       "    <tr>\n",
       "      <th>254</th>\n",
       "      <td>544</td>\n",
       "      <td>4/the_marginal_prophets-bohemian_rap_cd-01-bea...</td>\n",
       "    </tr>\n",
       "    <tr>\n",
       "      <th>...</th>\n",
       "      <td>...</td>\n",
       "      <td>...</td>\n",
       "    </tr>\n",
       "    <tr>\n",
       "      <th>22926</th>\n",
       "      <td>50592</td>\n",
       "      <td>0/the_bots-truth-13-smoky_on_da_mic-59-88.mp3</td>\n",
       "    </tr>\n",
       "    <tr>\n",
       "      <th>23051</th>\n",
       "      <td>50900</td>\n",
       "      <td>c/william_brooks-blue_ribbon__the_best_of_will...</td>\n",
       "    </tr>\n",
       "    <tr>\n",
       "      <th>23084</th>\n",
       "      <td>50959</td>\n",
       "      <td>f/various_artists-south_by_southwest_compilati...</td>\n",
       "    </tr>\n",
       "    <tr>\n",
       "      <th>23324</th>\n",
       "      <td>51607</td>\n",
       "      <td>0/the_bots-truth-14-my_mind_is_free-175-204.mp3</td>\n",
       "    </tr>\n",
       "    <tr>\n",
       "      <th>24293</th>\n",
       "      <td>54155</td>\n",
       "      <td>e/magnatune_com-magnatune_at_the_cc_salon-16-t...</td>\n",
       "    </tr>\n",
       "  </tbody>\n",
       "</table>\n",
       "<p>114 rows × 2 columns</p>\n",
       "</div>"
      ],
      "text/plain": [
       "       clip_id                                           mp3_path\n",
       "161        349  4/justin_bianco-siren-01-another_century-30-59...\n",
       "251        540  4/the_marginal_prophets-bohemian_rap_cd-01-bea...\n",
       "252        541  4/the_marginal_prophets-bohemian_rap_cd-01-bea...\n",
       "253        542  4/the_marginal_prophets-bohemian_rap_cd-01-bea...\n",
       "254        544  4/the_marginal_prophets-bohemian_rap_cd-01-bea...\n",
       "...        ...                                                ...\n",
       "22926    50592      0/the_bots-truth-13-smoky_on_da_mic-59-88.mp3\n",
       "23051    50900  c/william_brooks-blue_ribbon__the_best_of_will...\n",
       "23084    50959  f/various_artists-south_by_southwest_compilati...\n",
       "23324    51607    0/the_bots-truth-14-my_mind_is_free-175-204.mp3\n",
       "24293    54155  e/magnatune_com-magnatune_at_the_cc_salon-16-t...\n",
       "\n",
       "[114 rows x 2 columns]"
      ]
     },
     "execution_count": 6,
     "metadata": {},
     "output_type": "execute_result"
    }
   ],
   "source": [
    "hiphop"
   ]
  },
  {
   "cell_type": "code",
   "execution_count": null,
   "metadata": {},
   "outputs": [],
   "source": []
  }
 ],
 "metadata": {
  "kernelspec": {
   "display_name": "Python 3",
   "language": "python",
   "name": "python3"
  },
  "language_info": {
   "codemirror_mode": {
    "name": "ipython",
    "version": 3
   },
   "file_extension": ".py",
   "mimetype": "text/x-python",
   "name": "python",
   "nbconvert_exporter": "python",
   "pygments_lexer": "ipython3",
   "version": "3.6.9"
  }
 },
 "nbformat": 4,
 "nbformat_minor": 2
}
