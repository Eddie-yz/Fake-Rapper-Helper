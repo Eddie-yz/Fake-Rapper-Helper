{
 "cells": [
  {
   "cell_type": "code",
   "execution_count": 8,
   "metadata": {},
   "outputs": [],
   "source": [
    "from Preprocessing.dataloader import *\n",
    "from torch.utils.data import DataLoader\n",
    "\n",
    "speed_volume_perturb=False\n",
    "spec_augment=False\n",
    "sr = 16000\n",
    "audio_config = dict(sample_rate=sr,\n",
    "                          window_size=.02,\n",
    "                          window_stride=0.01,\n",
    "                          window='hamming',\n",
    "                          noise_dir=None,\n",
    "                          noise_prob=0.4,\n",
    "                          noise_levels=(0.0, 0.5))\n",
    "directory = './Data/Hip-Hop/'\n",
    "out_dir = './Output'\n",
    "pos_dir = './Data/spectrogram_pos'\n",
    "neg_dir = None\n",
    "\n",
    "# save npy files \n",
    "if not path.exists(pos_dir):\n",
    "    os.mkdir(pos_dir)\n",
    "    if path.exists(out_dir):\n",
    "        ! rm -r $out_dir\n",
    "    os.mkdir(out_dir)\n",
    "    sp = SpectrogramParser(audio_config)\n",
    "    index = 0\n",
    "    for file in listdir(directory):\n",
    "        filepath = path.join(directory, file)\n",
    "        for i in range(5):\n",
    "            spect,time = sp.parse_audio(filepath)\n",
    "            name, wav = file.split('.')\n",
    "            outfile = path.join(out_dir,name+'_{:.2f}'.format(time)+'.'+wav)\n",
    "            sp.spectrum2wav(spect, sr, outfile)\n",
    "            specfile = path.join(pos_dir, str(index)+'_'+name+'_{:.2f}'.format(time))\n",
    "            np.save(specfile,spect)\n",
    "            index +=1\n",
    "    # 16000 465984\n",
    "\n",
    "train_dataset = SpectrogramDataset(audio_conf=audio_config,\n",
    "                                   pos_dir=pos_dir,\n",
    "                                   neg_dir=neg_dir,\n",
    "                                   normalize=False,\n",
    "                                   speed_volume_perturb=speed_volume_perturb,\n",
    "                                   spec_augment=spec_augment)\n",
    "dataloader = DataLoader(train_dataset, batch_size=1, shuffle=True, sampler=None,\n",
    "           batch_sampler=None, num_workers=0, collate_fn=None,\n",
    "           pin_memory=False, drop_last=False, timeout=0,\n",
    "           worker_init_fn=None)\n"
   ]
  },
  {
   "cell_type": "code",
   "execution_count": 6,
   "metadata": {},
   "outputs": [
    {
     "name": "stdout",
     "output_type": "stream",
     "text": [
      "5\r\n"
     ]
    }
   ],
   "source": [
    "for epoch in range(5):\n",
    "    for i, (data) in enumerate(dataloader):\n",
    "        pos_sample, neg_sample = data\n",
    "        print(pos_sample[0][0][:5],pos_sample.shape)\n",
    "        break"
   ]
  },
  {
   "cell_type": "code",
   "execution_count": null,
   "metadata": {},
   "outputs": [],
   "source": []
  }
 ],
 "metadata": {
  "kernelspec": {
   "display_name": "Python 3",
   "language": "python",
   "name": "python3"
  },
  "language_info": {
   "codemirror_mode": {
    "name": "ipython",
    "version": 3
   },
   "file_extension": ".py",
   "mimetype": "text/x-python",
   "name": "python",
   "nbconvert_exporter": "python",
   "pygments_lexer": "ipython3",
   "version": "3.7.4"
  }
 },
 "nbformat": 4,
 "nbformat_minor": 2
}
