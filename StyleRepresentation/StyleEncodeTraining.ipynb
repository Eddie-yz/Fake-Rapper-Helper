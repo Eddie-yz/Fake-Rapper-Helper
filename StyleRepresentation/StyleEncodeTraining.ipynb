{
 "cells": [
  {
   "cell_type": "code",
   "execution_count": 1,
   "metadata": {},
   "outputs": [],
   "source": [
    "import os\n",
    "import time\n",
    "\n",
    "import torch \n",
    "import torch.nn as nn\n",
    "from torch.optim import Adam, SGD\n",
    "import torchaudio\n",
    "\n",
    "import matplotlib.pyplot as plt\n",
    "import librosa\n",
    "import numpy as np\n",
    "\n",
    "from model import SingleExtractor\n",
    "from loss import TripletLoss"
   ]
  },
  {
   "cell_type": "code",
   "execution_count": null,
   "metadata": {},
   "outputs": [],
   "source": [
    "# TODO\n",
    "anchor_and_positive_dataloader\n",
    "negative_dataloader"
   ]
  },
  {
   "cell_type": "code",
   "execution_count": 2,
   "metadata": {},
   "outputs": [],
   "source": [
    "class Trainer(object):\n",
    "    def __init__(self, negative_sample_size=4, n_epochs=500, loss_mode='cosine', device='cpu'):\n",
    "        self.model = SingleExtractor(conv_channels=128,\n",
    "                                     sample_rate=16000,\n",
    "                                     n_fft=513,\n",
    "                                     n_harmonic=6,\n",
    "                                     semitone_scale=2,\n",
    "                                     learn_bw='only_Q').to(device)\n",
    "        self.device = device\n",
    "        self.negative_sample_size = negative_sample_size\n",
    "        self.n_epochs = n_epochs\n",
    "        self.criterion = TripletLoss(mode=loss_mode)\n",
    "        self.optimizer = Adam(self.model.parameters(), lr=1e-3, weight_decay=1e-4)\n",
    "        self.current_optimizer = 'adam'\n",
    "        self.drop_counter = 0\n",
    "        self.trianing_loss = []\n",
    "        self.best_train_loss = 100\n",
    "        self.model_save_path = 'checkpoints'\n",
    "        \n",
    "        # TODO\n",
    "        # self.dataloader = \n",
    "         \n",
    "    def optimizerScheduler(self):\n",
    "        # Adam to sgd\n",
    "        if self.current_optimizer == 'adam' and self.drop_counter == 60:\n",
    "            self.optimizer = SGD(self.model.parameters(), 1e-3, momentum=0.9, weight_decay=0.0001, nesterov=True)\n",
    "            self.current_optimizer = 'sgd_1'\n",
    "            self.drop_counter = 0\n",
    "            print('sgd 1e-3')\n",
    "        # First drop\n",
    "        elif self.current_optimizer == 'sgd_1' and self.drop_counter == 20:\n",
    "            for pg in self.optimizer.param_groups:\n",
    "                pg['lr'] = 1e-4\n",
    "            self.current_optimizer = 'sgd_2'\n",
    "            self.drop_counter = 0\n",
    "            print('sgd 1e-4')\n",
    "        # Second drop\n",
    "        elif self.current_optimizer == 'sgd_2' and self.drop_counter == 20:\n",
    "            for pg in self.optimizer.param_groups:\n",
    "                pg['lr'] = 1e-5\n",
    "            self.current_optimizer = 'sgd_3'\n",
    "            print('sgd 1e-5')\n",
    "\n",
    "            \n",
    "    def train():\n",
    "        t0 = time.time()\n",
    "        for epoch in range(self.n_epochs):\n",
    "            self.drop_counter += 1\n",
    "            self.model.train()\n",
    "            epoch_loss = []\n",
    "            for i, (anchor, pos, negs) in enumerate(self.dataloader):\n",
    "                self.optimizer.zero_grad()\n",
    "                \n",
    "                anchor = torch.tensor(anchor, dtype=torch.float32).to(self.device)\n",
    "                pos = torch.tensor(pos, dtype=torch.float32).to(self.device)\n",
    "                negs = torch.tensor(negs, dtype=torch.float32).to(self.device)\n",
    "                \n",
    "                # Feed tensors into the Siamese harmonic network\n",
    "                ha = self.model(anchor)\n",
    "                hp = self.model(pos)\n",
    "                hn = self.model(negs)\n",
    "                \n",
    "                # Compute triplet loss\n",
    "                loss = self.criterion(ha, hp, hn)\n",
    "                epoch_loss.append(loss.item())\n",
    "                \n",
    "                loss.backward()\n",
    "                self.optimizer.step()\n",
    "                \n",
    "                if epoch_loss[-1] < self.best_train_loss:\n",
    "                    self.best_train_loss = epoch_loss[-1]\n",
    "                    torch.save(self.model.state_dict(),\\\n",
    "                               os.path.join(self.model_save_path, f'best_training_model_epoch{epoch}_iter{i}.pth'))\n",
    "                    \n",
    "            self.trianing_loss.append(np.mean(epoch_loss))\n",
    "            self.optimizerScheduler()\n",
    "            \n",
    "        print (\"Epoch: {:3d} | Train loss: {:.3f} | Time: {:4d}s\".format(epoch, self.trianing_loss[-1], time.time()-t0))\n"
   ]
  },
  {
   "cell_type": "code",
   "execution_count": 3,
   "metadata": {},
   "outputs": [],
   "source": [
    "styEncTrain = Trainer(device=torch.device(0))"
   ]
  },
  {
   "cell_type": "code",
   "execution_count": 7,
   "metadata": {},
   "outputs": [
    {
     "data": {
      "text/plain": [
       "'checkpoints/best_training_model_epoch2_iter30.pth'"
      ]
     },
     "execution_count": 7,
     "metadata": {},
     "output_type": "execute_result"
    }
   ],
   "source": [
    "os.path.join('checkpoints', f'best_training_model_epoch{2}_iter{30}.pth')"
   ]
  },
  {
   "cell_type": "code",
   "execution_count": 63,
   "metadata": {},
   "outputs": [
    {
     "data": {
      "text/plain": [
       "0"
      ]
     },
     "execution_count": 63,
     "metadata": {},
     "output_type": "execute_result"
    }
   ],
   "source": [
    "styEncTrain.drop_counter"
   ]
  },
  {
   "cell_type": "code",
   "execution_count": 48,
   "metadata": {},
   "outputs": [
    {
     "data": {
      "text/plain": [
       "<All keys matched successfully>"
      ]
     },
     "execution_count": 48,
     "metadata": {},
     "output_type": "execute_result"
    }
   ],
   "source": [
    "sl = SingleExtractor(conv_channels=128,\n",
    "                             sample_rate=16000,\n",
    "                             n_fft=513,\n",
    "                             n_harmonic=6,\n",
    "                             semitone_scale=2,\n",
    "                             learn_bw='only_Q')\n",
    "sl.load_state_dict(torch.load('checkpoints/test.pth'))"
   ]
  }
 ],
 "metadata": {
  "kernelspec": {
   "display_name": "Python 3",
   "language": "python",
   "name": "python3"
  },
  "language_info": {
   "codemirror_mode": {
    "name": "ipython",
    "version": 3
   },
   "file_extension": ".py",
   "mimetype": "text/x-python",
   "name": "python",
   "nbconvert_exporter": "python",
   "pygments_lexer": "ipython3",
   "version": "3.7.3"
  }
 },
 "nbformat": 4,
 "nbformat_minor": 2
}
